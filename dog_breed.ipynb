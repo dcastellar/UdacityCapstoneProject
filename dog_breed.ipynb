{
 "cells": [
  {
   "cell_type": "markdown",
   "metadata": {},
   "source": [
    "### Machine Learning Engineer Capstone Project \n",
    "\n",
    "## Project: Dog Identification App \n",
    "\n",
    "In this notebook, I will develop an algorithm to estimate the dog's breed. This algorithm will be composed by a dog detector and a human detector. If a dog is detected in the input image, it will provide an estimate of the dog's breed. If a human is detected, it will provide an estimate of the dog breed that is most similar.\n",
    "\n",
    "### Roadmap\n",
    "\n",
    "* [First](#step1):  Import Datasets \n",
    "* [Second](#step2): Transform the data\n",
    "* [Third](#step3):  Implement dog detector\n",
    "* [Fourth](#step4): Implement human detector\n",
    "* [Fifth](#step5):  Implement dog breed estimator\n",
    "\n",
    "<a id='step1'></a>\n",
    "\n",
    "## 1<sup>st</sup>: Import datasets\n",
    "\n",
    "The datasets that I will use are obtain from:\n",
    "* [Standford database for dog breeds images]()\n",
    "* the human images from \"[Labeled Faced in the Wild](http://vis-www.cs.umass.edu/lfw/)\"."
   ]
  },
  {
   "cell_type": "code",
   "execution_count": null,
   "metadata": {},
   "outputs": [],
   "source": []
  }
 ],
 "metadata": {
  "kernelspec": {
   "display_name": "conda_pytorch_p36",
   "language": "python",
   "name": "conda_pytorch_p36"
  },
  "language_info": {
   "codemirror_mode": {
    "name": "ipython",
    "version": 3
   },
   "file_extension": ".py",
   "mimetype": "text/x-python",
   "name": "python",
   "nbconvert_exporter": "python",
   "pygments_lexer": "ipython3",
   "version": "3.6.5"
  }
 },
 "nbformat": 4,
 "nbformat_minor": 4
}
