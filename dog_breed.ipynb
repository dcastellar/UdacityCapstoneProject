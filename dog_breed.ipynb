{
 "cells": [
  {
   "cell_type": "markdown",
   "metadata": {},
   "source": [
    "### Machine Learning Engineer Capstone Project \n",
    "\n",
    "## Project: Dog Identification App \n",
    "\n",
    "In this notebook, I will develop an algorithm to estimate the dog's breed. This algorithm will be composed by a dog detector and a human detector. If a dog is detected in the input image, it will provide an estimate of the dog's breed. If a human is detected, it will provide an estimate of the dog breed that is most similar.\n",
    "\n",
    "### Roadmap\n",
    "\n",
    "* [First](#step1):  Import Datasets \n",
    "* [Second](#step2): Transform the data\n",
    "* [Third](#step3):  Implement dog detector\n",
    "* [Fourth](#step4): Implement human detector\n",
    "* [Fifth](#step5):  Implement dog breed estimator\n",
    "\n",
    "<a id='step1'></a>\n",
    "\n",
    "## 1<sup>st</sup>: Import datasets\n",
    "\n",
    "The datasets that I will use are obtain from:\n",
    "* [Standford database for dog breeds images](https://www.kaggle.com/c/7327/download-all) dataset from kaggle competition\n",
    "* the human images from \"[Labeled Faced in the Wild](http://vis-www.cs.umass.edu/lfw/)\"."
   ]
  },
  {
   "cell_type": "markdown",
   "metadata": {},
   "source": [
    "For dog-breed dataset, I will download the zip for the kaggle competition that gives us the data divided in train and test. The zip file will be upload to the jupiter notebook repository and then I must unzip the file."
   ]
  },
  {
   "cell_type": "code",
   "execution_count": 1,
   "metadata": {},
   "outputs": [
    {
     "name": "stdout",
     "output_type": "stream",
     "text": [
      "--2020-01-15 21:42:54--  http://vision.stanford.edu/aditya86/ImageNetDogs/images.tar\n",
      "Resolving vision.stanford.edu (vision.stanford.edu)... 171.64.68.10\n",
      "Connecting to vision.stanford.edu (vision.stanford.edu)|171.64.68.10|:80... connected.\n",
      "HTTP request sent, awaiting response... 200 OK\n",
      "Length: 793579520 (757M) [application/x-tar]\n",
      "Saving to: ‘images.tar’\n",
      "\n",
      "images.tar          100%[===================>] 756.82M  5.61MB/s    in 1m 45s  \n",
      "\n",
      "2020-01-15 21:44:39 (7.21 MB/s) - ‘images.tar’ saved [793579520/793579520]\n",
      "\n",
      "--2020-01-15 21:44:39--  http://vision.stanford.edu/aditya86/ImageNetDogs/annotation.tar\n",
      "Resolving vision.stanford.edu (vision.stanford.edu)... 171.64.68.10\n",
      "Connecting to vision.stanford.edu (vision.stanford.edu)|171.64.68.10|:80... connected.\n",
      "HTTP request sent, awaiting response... 200 OK\n",
      "Length: 21852160 (21M) [application/x-tar]\n",
      "Saving to: ‘annotation.tar’\n",
      "\n",
      "annotation.tar      100%[===================>]  20.84M  10.7MB/s    in 1.9s    \n",
      "\n",
      "2020-01-15 21:44:41 (10.7 MB/s) - ‘annotation.tar’ saved [21852160/21852160]\n",
      "\n"
     ]
    }
   ],
   "source": [
    "!wget http://vision.stanford.edu/aditya86/ImageNetDogs/images.tar\n",
    "!wget http://vision.stanford.edu/aditya86/ImageNetDogs/annotation.tar"
   ]
  },
  {
   "cell_type": "code",
   "execution_count": 19,
   "metadata": {},
   "outputs": [],
   "source": [
    "#!mkdir dogs_data\n",
    "#!mkdir dogs_data/generated\n",
    "#!mkdir dogs_data/train\n",
    "#!mkdir dogs_data/train_annotation\n",
    "#!mkdir dogs_data/validation\n",
    "#!mkdir dogs_data/validation_annotation\n",
    "!tar -xf images.tar -C dogs_data/\n",
    "!tar -xf annotation.tar -C dogs_data/"
   ]
  },
  {
   "cell_type": "markdown",
   "metadata": {},
   "source": [
    "Now I import all the libraries necessary in the notebook"
   ]
  },
  {
   "cell_type": "markdown",
   "metadata": {},
   "source": [
    "For the Human datasets, I will use the sklearn datasets facilities."
   ]
  },
  {
   "cell_type": "code",
   "execution_count": null,
   "metadata": {},
   "outputs": [],
   "source": [
    "from sklearn.datasets import fetch_lfw_people"
   ]
  },
  {
   "cell_type": "code",
   "execution_count": 2,
   "metadata": {},
   "outputs": [
    {
     "name": "stderr",
     "output_type": "stream",
     "text": [
      "Downloading LFW metadata: https://ndownloader.figshare.com/files/5976012\n",
      "Downloading LFW metadata: https://ndownloader.figshare.com/files/5976009\n",
      "Downloading LFW metadata: https://ndownloader.figshare.com/files/5976006\n",
      "Downloading LFW data (~200MB): https://ndownloader.figshare.com/files/5976015\n"
     ]
    }
   ],
   "source": [
    "lfw_people = fetch_lfw_people(min_faces_per_person=2)"
   ]
  },
  {
   "cell_type": "markdown",
   "metadata": {},
   "source": [
    "## 2<sup>nd</sup>: Transform the data\n",
    "\n",
    "In this section, we will transform the dog dataset because we need the right tensors for input for the pre-trained models that I will use in the detectors"
   ]
  },
  {
   "cell_type": "code",
   "execution_count": 20,
   "metadata": {},
   "outputs": [],
   "source": [
    "import numpy as np\n",
    "\n",
    "from PIL import Image\n",
    "\n",
    "import torchvision.transforms as transforms\n",
    "import torchvision.models as models\n",
    "\n",
    "import matplotlib.pyplot as plt\n",
    "import torch\n",
    "\n",
    "import os\n",
    "from xml.dom import minidom\n",
    "import json\n",
    "import shutil\n",
    "from random import shuffle"
   ]
  },
  {
   "cell_type": "markdown",
   "metadata": {},
   "source": [
    "First I make a dicti"
   ]
  },
  {
   "cell_type": "code",
   "execution_count": 21,
   "metadata": {},
   "outputs": [],
   "source": [
    "dogs_categories = {}\n",
    "category_counter = 0\n",
    "for name in os.listdir(\"./dogs_data/Annotation\"): \n",
    "    if os.path.isdir(\"./dogs_data/Annotation/\"+name):\n",
    "        dogs_categories[name[10:]] = category_counter\n",
    "        category_counter += 1"
   ]
  },
  {
   "cell_type": "code",
   "execution_count": 22,
   "metadata": {},
   "outputs": [],
   "source": [
    "for directory in os.listdir(\"./dogs_data/Annotation\"): \n",
    "    annotation_directory = \"./dogs_data/Annotation/\"+directory\n",
    "    if os.path.isdir(annotation_directory):\n",
    "        for file in os.listdir(annotation_directory):\n",
    "            if os.path.isfile(annotation_directory+\"/\"+file):\n",
    "                # parse an xml file by name\n",
    "                mydoc = minidom.parse(annotation_directory+\"/\"+file)\n",
    "                fileName =file\n",
    "                jsonFile = fileName +'.json'\n",
    "                line = {}\n",
    "                # move image to upper directory\n",
    "                shutil.move('./dogs_data/Images/'+directory+'/'+fileName+'.jpg', './dogs_data/Images/')\n",
    "                # build the json required\n",
    "                line['file'] = fileName+\".jpg\"\n",
    "                line['image_size'] = [{\n",
    "                    'width':int(mydoc.getElementsByTagName('width')[0].firstChild.data),\n",
    "                    'height':int(mydoc.getElementsByTagName('height')[0].firstChild.data),\n",
    "                    'depth':mydoc.getElementsByTagName('depth')[0].firstChild.data\n",
    "                }]\n",
    "                line['annotations'] = []\n",
    "                for box in mydoc.getElementsByTagName('bndbox'):\n",
    "                    line['annotations'].append({\n",
    "                        'class_id':int(dogs_categories[mydoc.getElementsByTagName('name')[0].firstChild.data]),\n",
    "                        'top':int(mydoc.getElementsByTagName('bndbox')[0].childNodes[1].firstChild.data),\n",
    "                        'left':int(mydoc.getElementsByTagName('bndbox')[0].childNodes[3].firstChild.data),\n",
    "                        'width':int(mydoc.getElementsByTagName('bndbox')[0].childNodes[5].firstChild.data),\n",
    "                        'height':int(mydoc.getElementsByTagName('bndbox')[0].childNodes[7].firstChild.data)})\n",
    "                line['categories']=[]\n",
    "                line['categories'].append({\n",
    "                    'class_id':int(dogs_categories[mydoc.getElementsByTagName('name')[0].firstChild.data]),\n",
    "                    'name':mydoc.getElementsByTagName('name')[0].firstChild.data\n",
    "                })\n",
    "                if line['annotations']:\n",
    "                    with open(os.path.join('./dogs_data/generated', jsonFile),'w') as p:\n",
    "                        json.dump(line,p)"
   ]
  },
  {
   "cell_type": "code",
   "execution_count": 23,
   "metadata": {},
   "outputs": [],
   "source": [
    "# delete directories\n",
    "for directory in os.listdir(\"./dogs_data/Images\"): \n",
    "    images_directory = \"./dogs_data/Images/\"+directory\n",
    "    if os.path.isdir(images_directory):\n",
    "        shutil.rmtree(images_directory)"
   ]
  },
  {
   "cell_type": "code",
   "execution_count": 24,
   "metadata": {},
   "outputs": [
    {
     "name": "stdout",
     "output_type": "stream",
     "text": [
      "There are 20580 images in directory\n",
      "There are 20581 images have annotation files\n"
     ]
    }
   ],
   "source": [
    "path, dirs, files = next(os.walk('./dogs_data/Images'))\n",
    "\n",
    "print ('There are {} images in directory'.format(len(files)))\n",
    "\n",
    "jsons = os.listdir('./dogs_data/generated')\n",
    "\n",
    "print ('There are {} images have annotation files'.format(len(jsons)))\n",
    "\n",
    "shuffle(jsons)"
   ]
  },
  {
   "cell_type": "code",
   "execution_count": 31,
   "metadata": {},
   "outputs": [],
   "source": [
    "path, dirs, files = next(os.walk('./dogs_data/train'))\n",
    "for i in files:\n",
    "    shutil.move('./dogs_data/generated/'+i.split('.')[0]+'.json', './dogs_data/train_annotation/')"
   ]
  },
  {
   "cell_type": "code",
   "execution_count": 45,
   "metadata": {},
   "outputs": [],
   "source": [
    "path, dirs, files = next(os.walk('./dogs_data/validation'))\n",
    "for i in files:\n",
    "    shutil.move('./dogs_data/generated/'+i.split('.')[0]+'.json', './dogs_data/validation_annotation/')"
   ]
  },
  {
   "cell_type": "code",
   "execution_count": 42,
   "metadata": {},
   "outputs": [],
   "source": [
    "train_jsons = jsons[:16464]\n",
    "val_jsons = jsons[16464:]\n",
    "\n",
    "#Moving training files to the training folders\n",
    "for i in train_jsons:\n",
    "    image_file = './dogs_data/Images/'+i.split('.')[0]+'.jpg'\n",
    "    shutil.move(image_file, './dogs_data/train/')\n",
    "    shutil.move('./dogs_data/generated/'+i, './dogs_data/train_annotation/')\n",
    "\n",
    "#Moving validation files to the validation folders\n",
    "for i in val_jsons:\n",
    "    image_file = './dogs_data/Images/'+i.split('.')[0]+'.jpg'\n",
    "    shutil.move(image_file, './dogs_data/validation/')\n",
    "    shutil.move('./dogs_data/generated/'+i, './dogs_data/validation_annotation/')"
   ]
  },
  {
   "cell_type": "markdown",
   "metadata": {},
   "source": [
    "### Upload to S3"
   ]
  },
  {
   "cell_type": "code",
   "execution_count": 33,
   "metadata": {},
   "outputs": [
    {
     "name": "stdout",
     "output_type": "stream",
     "text": [
      "arn:aws:iam::491576157094:role/service-role/AmazonSageMaker-ExecutionRole-20191208T094449\n",
      "CPU times: user 240 ms, sys: 4.55 ms, total: 244 ms\n",
      "Wall time: 524 ms\n"
     ]
    }
   ],
   "source": [
    "%%time\n",
    "import sagemaker\n",
    "from sagemaker import get_execution_role\n",
    "\n",
    "role = get_execution_role()\n",
    "print(role)\n",
    "sess = sagemaker.Session()"
   ]
  },
  {
   "cell_type": "code",
   "execution_count": 34,
   "metadata": {},
   "outputs": [],
   "source": [
    "bucket = sess.default_bucket()\n",
    "prefix = 'Dogs-Breed'"
   ]
  },
  {
   "cell_type": "code",
   "execution_count": 35,
   "metadata": {},
   "outputs": [
    {
     "name": "stdout",
     "output_type": "stream",
     "text": [
      "825641698319.dkr.ecr.us-east-2.amazonaws.com/object-detection:latest\n"
     ]
    }
   ],
   "source": [
    "from sagemaker.amazon.amazon_estimator import get_image_uri\n",
    "\n",
    "training_image = get_image_uri(sess.boto_region_name, 'object-detection', repo_version=\"latest\")\n",
    "print (training_image)"
   ]
  },
  {
   "cell_type": "code",
   "execution_count": 36,
   "metadata": {},
   "outputs": [
    {
     "name": "stdout",
     "output_type": "stream",
     "text": [
      "CPU times: user 2min 15s, sys: 8.37 s, total: 2min 24s\n",
      "Wall time: 12min 32s\n"
     ]
    }
   ],
   "source": [
    "%%time\n",
    "\n",
    "train_channel = prefix + '/train'\n",
    "validation_channel = prefix + '/validation'\n",
    "train_annotation_channel = prefix + '/train_annotation'\n",
    "validation_annotation_channel = prefix + '/validation_annotation'\n",
    "\n",
    "sess.upload_data(path='./dogs_data/train', bucket=bucket, key_prefix=train_channel)\n",
    "sess.upload_data(path='./dogs_data/validation', bucket=bucket, key_prefix=validation_channel)\n",
    "sess.upload_data(path='./dogs_data/train_annotation', bucket=bucket, key_prefix=train_annotation_channel)\n",
    "sess.upload_data(path='./dogs_data/validation_annotation', bucket=bucket, key_prefix=validation_annotation_channel)\n",
    "\n",
    "s3_train_data = 's3://{}/{}'.format(bucket, train_channel)\n",
    "s3_validation_data = 's3://{}/{}'.format(bucket, validation_channel)\n",
    "s3_train_annotation = 's3://{}/{}'.format(bucket, train_annotation_channel)\n",
    "s3_validation_annotation = 's3://{}/{}'.format(bucket, validation_annotation_channel)"
   ]
  },
  {
   "cell_type": "code",
   "execution_count": 37,
   "metadata": {},
   "outputs": [],
   "source": [
    "s3_output_location = 's3://{}/{}/output'.format(bucket, prefix)"
   ]
  },
  {
   "cell_type": "markdown",
   "metadata": {},
   "source": [
    "## Training"
   ]
  },
  {
   "cell_type": "code",
   "execution_count": 38,
   "metadata": {},
   "outputs": [],
   "source": [
    "dog_detector_model = sagemaker.estimator.Estimator(training_image,\n",
    "                                         role, \n",
    "                                         train_instance_count=1, \n",
    "                                         train_instance_type='ml.p2.xlarge',\n",
    "                                         train_volume_size = 50,\n",
    "                                         train_max_run = 360000,\n",
    "                                         input_mode = 'File',\n",
    "                                         output_path=s3_output_location,\n",
    "                                         sagemaker_session=sess)"
   ]
  },
  {
   "cell_type": "code",
   "execution_count": 48,
   "metadata": {},
   "outputs": [],
   "source": [
    "dog_detector_model.set_hyperparameters(base_network='resnet-50',\n",
    "                             use_pretrained_model=1,\n",
    "                             num_classes=80,\n",
    "                             mini_batch_size=16,\n",
    "                             epochs=5,\n",
    "                             learning_rate=0.001,\n",
    "                             lr_scheduler_step='10',\n",
    "                             lr_scheduler_factor=0.1,\n",
    "                             optimizer='sgd',\n",
    "                             momentum=0.9,\n",
    "                             weight_decay=0.0005,\n",
    "                             overlap_threshold=0.5,\n",
    "                             nms_threshold=0.45,\n",
    "                             image_shape=512,\n",
    "                             label_width=600,\n",
    "                             num_training_samples=16464)"
   ]
  },
  {
   "cell_type": "code",
   "execution_count": 40,
   "metadata": {},
   "outputs": [],
   "source": [
    "train_data = sagemaker.session.s3_input(s3_train_data, distribution='FullyReplicated', \n",
    "                        content_type='image/jpeg', s3_data_type='S3Prefix')\n",
    "validation_data = sagemaker.session.s3_input(s3_validation_data, distribution='FullyReplicated', \n",
    "                             content_type='image/jpeg', s3_data_type='S3Prefix')\n",
    "train_annotation = sagemaker.session.s3_input(s3_train_annotation, distribution='FullyReplicated', \n",
    "                             content_type='image/jpeg', s3_data_type='S3Prefix')\n",
    "validation_annotation = sagemaker.session.s3_input(s3_validation_annotation, distribution='FullyReplicated', \n",
    "                             content_type='image/jpeg', s3_data_type='S3Prefix')\n",
    "\n",
    "data_channels = {'train': train_data, 'validation': validation_data, \n",
    "                 'train_annotation': train_annotation, 'validation_annotation':validation_annotation}"
   ]
  },
  {
   "cell_type": "code",
   "execution_count": 49,
   "metadata": {},
   "outputs": [
    {
     "name": "stdout",
     "output_type": "stream",
     "text": [
      "2020-01-19 13:46:56 Starting - Starting the training job...\n",
      "2020-01-19 13:46:57 Starting - Launching requested ML instances...\n",
      "2020-01-19 13:47:53 Starting - Preparing the instances for training.........\n",
      "2020-01-19 13:49:13 Downloading - Downloading input data..............................\n",
      "2020-01-19 13:54:19 Training - Training image download completed. Training in progress.\u001b[34mDocker entrypoint called with argument(s): train\u001b[0m\n",
      "\u001b[34m[01/19/2020 13:54:23 INFO 140295625463616] Reading default configuration from /opt/amazon/lib/python2.7/site-packages/algorithm/default-input.json: {u'label_width': u'350', u'early_stopping_min_epochs': u'10', u'epochs': u'30', u'overlap_threshold': u'0.5', u'lr_scheduler_factor': u'0.1', u'_num_kv_servers': u'auto', u'weight_decay': u'0.0005', u'mini_batch_size': u'32', u'use_pretrained_model': u'0', u'freeze_layer_pattern': u'', u'lr_scheduler_step': u'', u'early_stopping': u'False', u'early_stopping_patience': u'5', u'momentum': u'0.9', u'num_training_samples': u'', u'optimizer': u'sgd', u'_tuning_objective_metric': u'', u'early_stopping_tolerance': u'0.0', u'learning_rate': u'0.001', u'kv_store': u'device', u'nms_threshold': u'0.45', u'num_classes': u'', u'base_network': u'vgg-16', u'nms_topk': u'400', u'_kvstore': u'device', u'image_shape': u'300'}\u001b[0m\n",
      "\u001b[34m[01/19/2020 13:54:23 INFO 140295625463616] Merging with provided configuration from /opt/ml/input/config/hyperparameters.json: {u'learning_rate': u'0.001', u'epochs': u'5', u'nms_threshold': u'0.45', u'optimizer': u'sgd', u'base_network': u'resnet-50', u'image_shape': u'512', u'label_width': u'600', u'lr_scheduler_step': u'10', u'momentum': u'0.9', u'overlap_threshold': u'0.5', u'num_training_samples': u'16464', u'mini_batch_size': u'16', u'weight_decay': u'0.0005', u'use_pretrained_model': u'1', u'num_classes': u'80', u'lr_scheduler_factor': u'0.1'}\u001b[0m\n",
      "\u001b[34m[01/19/2020 13:54:23 INFO 140295625463616] Final configuration: {u'label_width': u'600', u'early_stopping_min_epochs': u'10', u'epochs': u'5', u'overlap_threshold': u'0.5', u'lr_scheduler_factor': u'0.1', u'_num_kv_servers': u'auto', u'weight_decay': u'0.0005', u'mini_batch_size': u'16', u'use_pretrained_model': u'1', u'freeze_layer_pattern': u'', u'lr_scheduler_step': u'10', u'early_stopping': u'False', u'early_stopping_patience': u'5', u'momentum': u'0.9', u'num_training_samples': u'16464', u'optimizer': u'sgd', u'_tuning_objective_metric': u'', u'early_stopping_tolerance': u'0.0', u'learning_rate': u'0.001', u'kv_store': u'device', u'nms_threshold': u'0.45', u'num_classes': u'80', u'base_network': u'resnet-50', u'nms_topk': u'400', u'_kvstore': u'device', u'image_shape': u'512'}\u001b[0m\n",
      "\u001b[34mProcess 1 is a worker.\u001b[0m\n",
      "\u001b[34m[01/19/2020 13:54:23 INFO 140295625463616] Using default worker.\u001b[0m\n",
      "\u001b[34m[01/19/2020 13:54:23 INFO 140295625463616] Loaded iterator creator application/x-image for content type ('application/x-image', '1.0')\u001b[0m\n",
      "\u001b[34m[01/19/2020 13:54:23 INFO 140295625463616] Loaded iterator creator application/x-recordio for content type ('application/x-recordio', '1.0')\u001b[0m\n",
      "\u001b[34m[01/19/2020 13:54:23 INFO 140295625463616] Loaded iterator creator image/png for content type ('image/png', '1.0')\u001b[0m\n",
      "\u001b[34m[01/19/2020 13:54:23 INFO 140295625463616] Loaded iterator creator image/jpeg for content type ('image/jpeg', '1.0')\u001b[0m\n",
      "\u001b[34m[01/19/2020 13:54:23 INFO 140295625463616] Checkpoint loading and saving are disabled.\u001b[0m\n",
      "\u001b[34m[01/19/2020 13:54:29 INFO 140295625463616] nvidia-smi took: 0.0251910686493 secs to identify 1 gpus\u001b[0m\n",
      "\u001b[34mCreating .rec file from /opt/ml/input/data/train/train.lst in /opt/ml/input/data/train\u001b[0m\n",
      "\u001b[34mtime: 0.0526969432831  count: 0\u001b[0m\n",
      "\u001b[34mtime: 2.0402340889  count: 1000\u001b[0m\n",
      "\u001b[34mtime: 1.75121498108  count: 2000\u001b[0m\n",
      "\u001b[34mtime: 1.66701507568  count: 3000\u001b[0m\n",
      "\u001b[34mtime: 1.5144469738  count: 4000\u001b[0m\n",
      "\u001b[34mtime: 1.66077899933  count: 5000\u001b[0m\n",
      "\u001b[34mtime: 1.87462687492  count: 6000\u001b[0m\n",
      "\u001b[34mtime: 1.7566549778  count: 7000\u001b[0m\n",
      "\u001b[34mtime: 1.43635010719  count: 8000\u001b[0m\n",
      "\u001b[34mtime: 1.44084501266  count: 9000\u001b[0m\n",
      "\u001b[34mtime: 1.52882599831  count: 10000\u001b[0m\n",
      "\u001b[34mtime: 1.63656997681  count: 11000\u001b[0m\n",
      "\u001b[34mtime: 1.56173396111  count: 12000\u001b[0m\n",
      "\u001b[34mtime: 1.55471014977  count: 13000\u001b[0m\n",
      "\u001b[34mtime: 1.94490480423  count: 14000\u001b[0m\n",
      "\u001b[34mtime: 1.54599714279  count: 15000\u001b[0m\n",
      "\u001b[34mtime: 1.31039786339  count: 16000\u001b[0m\n",
      "\u001b[34mCreating .rec file from /opt/ml/input/data/validation/val.lst in /opt/ml/input/data/validation\u001b[0m\n",
      "\u001b[34mtime: 0.011302947998  count: 0\u001b[0m\n",
      "\u001b[34mtime: 2.26810097694  count: 1000\u001b[0m\n",
      "\u001b[34mtime: 12.7975840569  count: 2000\u001b[0m\n",
      "\u001b[34mtime: 1.39403605461  count: 3000\u001b[0m\n",
      "\u001b[34mtime: 1.43465900421  count: 4000\u001b[0m\n",
      "\u001b[34m[01/19/2020 13:55:17 INFO 140295625463616] Number of GPUs being used: 1\u001b[0m\n",
      "\u001b[34m[01/19/2020 13:55:17 WARNING 140295625463616] Training images are resized to image shape (3, 512, 512)\u001b[0m\n",
      "\u001b[34m[13:55:17] /opt/brazil-pkg-cache/packages/MXNetECL/MXNetECL-v1.4.1.1005.0/AL2012/generic-flavor/src/src/io/iter_image_det_recordio.cc:283: ImageDetRecordIOParser: /opt/ml/input/data/train/train.rec, use 3 threads for decoding..\u001b[0m\n",
      "\u001b[34m[13:55:18] /opt/brazil-pkg-cache/packages/MXNetECL/MXNetECL-v1.4.1.1005.0/AL2012/generic-flavor/src/src/io/iter_image_det_recordio.cc:340: ImageDetRecordIOParser: /opt/ml/input/data/train/train.rec, label padding width: 600\u001b[0m\n",
      "\u001b[34m[01/19/2020 13:55:20 WARNING 140295625463616] Validation images are resized to image shape (3, 512, 512)\u001b[0m\n",
      "\u001b[34m[13:55:20] /opt/brazil-pkg-cache/packages/MXNetECL/MXNetECL-v1.4.1.1005.0/AL2012/generic-flavor/src/src/io/iter_image_det_recordio.cc:283: ImageDetRecordIOParser: /opt/ml/input/data/validation/val.rec, use 3 threads for decoding..\u001b[0m\n",
      "\u001b[34m[13:55:20] /opt/brazil-pkg-cache/packages/MXNetECL/MXNetECL-v1.4.1.1005.0/AL2012/generic-flavor/src/src/io/iter_image_det_recordio.cc:340: ImageDetRecordIOParser: /opt/ml/input/data/validation/val.rec, label padding width: 600\u001b[0m\n",
      "\u001b[34m[01/19/2020 13:55:23 INFO 140295625463616] Number of GPUs being used: 1\u001b[0m\n",
      "\u001b[34m[01/19/2020 13:55:23 INFO 140295625463616] Using [gpu(0)] as training context.\u001b[0m\n",
      "\u001b[34m[01/19/2020 13:55:23 INFO 140295625463616] Number of GPUs being used: 1\u001b[0m\n",
      "\u001b[34m[01/19/2020 13:55:23 INFO 140295625463616] Create Store: device\u001b[0m\n",
      "\u001b[34m[01/19/2020 13:55:23 INFO 140295625463616] Using (gpu(0)) as training context.\u001b[0m\n",
      "\u001b[34m[01/19/2020 13:55:23 INFO 140295625463616] Start training from pretrained model 1.\u001b[0m\n",
      "\u001b[34m[13:55:23] /opt/brazil-pkg-cache/packages/MXNetECL/MXNetECL-v1.4.1.1005.0/AL2012/generic-flavor/src/src/nnvm/legacy_json_util.cc:209: Loading symbol saved by previous version v0.8.0. Attempting to upgrade...\u001b[0m\n",
      "\u001b[34m[13:55:23] /opt/brazil-pkg-cache/packages/MXNetECL/MXNetECL-v1.4.1.1005.0/AL2012/generic-flavor/src/src/nnvm/legacy_json_util.cc:217: Symbol successfully upgraded!\u001b[0m\n",
      "\u001b[34m[01/19/2020 13:55:24 INFO 140295625463616] Loaded pretrained model parameters.\u001b[0m\n",
      "\u001b[34m[01/19/2020 13:55:35 INFO 140295625463616] Creating a new state instance.\u001b[0m\n",
      "\u001b[34m#metrics {\"Metrics\": {\"Max Batches Seen Between Resets\": {\"count\": 1, \"max\": 0, \"sum\": 0.0, \"min\": 0}, \"Number of Batches Since Last Reset\": {\"count\": 1, \"max\": 0, \"sum\": 0.0, \"min\": 0}, \"Number of Records Since Last Reset\": {\"count\": 1, \"max\": 0, \"sum\": 0.0, \"min\": 0}, \"Total Batches Seen\": {\"count\": 1, \"max\": 0, \"sum\": 0.0, \"min\": 0}, \"Total Records Seen\": {\"count\": 1, \"max\": 0, \"sum\": 0.0, \"min\": 0}, \"Max Records Seen Between Resets\": {\"count\": 1, \"max\": 0, \"sum\": 0.0, \"min\": 0}, \"Reset Count\": {\"count\": 1, \"max\": 0, \"sum\": 0.0, \"min\": 0}}, \"EndTime\": 1579442135.255166, \"Dimensions\": {\"Host\": \"algo-1\", \"Meta\": \"init_train_data_iter\", \"Operation\": \"training\", \"Algorithm\": \"AWS/Object Detection\"}, \"StartTime\": 1579442135.255091}\n",
      "\u001b[0m\n",
      "\u001b[34m[13:55:35] /opt/brazil-pkg-cache/packages/MXNetECL/MXNetECL-v1.4.1.1005.0/AL2012/generic-flavor/src/src/operator/nn/./cudnn/./cudnn_algoreg-inl.h:97: Running performance tests to find the best convolution algorithm, this can take a while... (setting env variable MXNET_CUDNN_AUTOTUNE_DEFAULT to 0 to disable)\u001b[0m\n",
      "\u001b[34m[01/19/2020 13:58:56 INFO 140295625463616] Epoch:    0, batches:    100, num_examples:   1600, 8.0 samples/sec, epoch time so far:  0:03:20.779358\u001b[0m\n",
      "\u001b[34m[01/19/2020 14:01:52 INFO 140295625463616] Epoch:    0, batches:    200, num_examples:   3200, 8.5 samples/sec, epoch time so far:  0:06:17.278075\u001b[0m\n",
      "\u001b[34m[01/19/2020 14:04:45 INFO 140295625463616] Epoch:    0, batches:    300, num_examples:   4800, 8.7 samples/sec, epoch time so far:  0:09:10.385259\u001b[0m\n",
      "\u001b[34m[01/19/2020 14:07:38 INFO 140295625463616] Epoch:    0, batches:    400, num_examples:   6400, 8.8 samples/sec, epoch time so far:  0:12:03.366625\u001b[0m\n",
      "\u001b[34m[01/19/2020 14:10:31 INFO 140295625463616] Epoch:    0, batches:    500, num_examples:   8000, 8.9 samples/sec, epoch time so far:  0:14:56.109830\u001b[0m\n",
      "\u001b[34m[01/19/2020 14:13:24 INFO 140295625463616] Epoch:    0, batches:    600, num_examples:   9600, 9.0 samples/sec, epoch time so far:  0:17:49.138382\u001b[0m\n",
      "\u001b[34m[01/19/2020 14:16:17 INFO 140295625463616] Epoch:    0, batches:    700, num_examples:   11200, 9.0 samples/sec, epoch time so far:  0:20:42.716265\u001b[0m\n",
      "\u001b[34m[01/19/2020 14:19:11 INFO 140295625463616] Epoch:    0, batches:    800, num_examples:   12800, 9.0 samples/sec, epoch time so far:  0:23:36.321516\u001b[0m\n",
      "\u001b[34m[01/19/2020 14:22:03 INFO 140295625463616] Epoch:    0, batches:    900, num_examples:   14400, 9.1 samples/sec, epoch time so far:  0:26:28.446528\u001b[0m\n",
      "\u001b[34m[01/19/2020 14:24:54 INFO 140295625463616] Epoch:    0, batches:    1000, num_examples:   16000, 9.1 samples/sec, epoch time so far:  0:29:19.348330\u001b[0m\n",
      "\u001b[34m[01/19/2020 14:25:44 INFO 140295625463616] #quality_metric: host=algo-1, epoch=0, batch=1029 train cross_entropy <loss>=(1.7392297425531649)\u001b[0m\n",
      "\u001b[34m[01/19/2020 14:25:44 INFO 140295625463616] #quality_metric: host=algo-1, epoch=0, batch=1029 train smooth_l1 <loss>=(0.4759194487790939)\u001b[0m\n",
      "\u001b[34m[01/19/2020 14:25:44 INFO 140295625463616] Round of batches complete\u001b[0m\n",
      "\u001b[34m[01/19/2020 14:25:44 INFO 140295625463616] Updated the metrics\u001b[0m\n",
      "\u001b[34m[01/19/2020 14:28:31 INFO 140295625463616] #quality_metric: host=algo-1, epoch=0, validation mAP <score>=(0.00015296319480055307)\u001b[0m\n",
      "\u001b[34m[01/19/2020 14:28:31 INFO 140295625463616] Updating the best model with validation-mAP=0.00015296319480055307\u001b[0m\n",
      "\u001b[34m[01/19/2020 14:28:31 INFO 140295625463616] Saved checkpoint to \"/opt/ml/model/model_algo_1-0000.params\"\u001b[0m\n",
      "\u001b[34m[01/19/2020 14:28:31 INFO 140295625463616] #progress_metric: host=algo-1, completed 20 % of epochs\u001b[0m\n",
      "\u001b[34m#metrics {\"Metrics\": {\"Max Batches Seen Between Resets\": {\"count\": 1, \"max\": 0, \"sum\": 0.0, \"min\": 0}, \"Number of Batches Since Last Reset\": {\"count\": 1, \"max\": 0, \"sum\": 0.0, \"min\": 0}, \"Number of Records Since Last Reset\": {\"count\": 1, \"max\": 0, \"sum\": 0.0, \"min\": 0}, \"Total Batches Seen\": {\"count\": 1, \"max\": 0, \"sum\": 0.0, \"min\": 0}, \"Total Records Seen\": {\"count\": 1, \"max\": 0, \"sum\": 0.0, \"min\": 0}, \"Max Records Seen Between Resets\": {\"count\": 1, \"max\": 0, \"sum\": 0.0, \"min\": 0}, \"Reset Count\": {\"count\": 1, \"max\": 1, \"sum\": 1.0, \"min\": 1}}, \"EndTime\": 1579444111.731411, \"Dimensions\": {\"Host\": \"algo-1\", \"Meta\": \"training_data_iter\", \"Operation\": \"training\", \"Algorithm\": \"AWS/Object Detection\", \"epoch\": 0}, \"StartTime\": 1579442135.255388}\n",
      "\u001b[0m\n",
      "\u001b[34m[01/19/2020 14:31:24 INFO 140295625463616] Epoch:    1, batches:    100, num_examples:   1600, 9.3 samples/sec, epoch time so far:  0:02:52.653116\u001b[0m\n",
      "\u001b[34m[01/19/2020 14:34:16 INFO 140295625463616] Epoch:    1, batches:    200, num_examples:   3200, 9.3 samples/sec, epoch time so far:  0:05:44.378850\u001b[0m\n",
      "\u001b[34m[01/19/2020 14:37:07 INFO 140295625463616] Epoch:    1, batches:    300, num_examples:   4800, 9.3 samples/sec, epoch time so far:  0:08:35.798000\u001b[0m\n",
      "\u001b[34m[01/19/2020 14:39:59 INFO 140295625463616] Epoch:    1, batches:    400, num_examples:   6400, 9.3 samples/sec, epoch time so far:  0:11:27.511802\u001b[0m\n",
      "\u001b[34m[01/19/2020 14:42:50 INFO 140295625463616] Epoch:    1, batches:    500, num_examples:   8000, 9.3 samples/sec, epoch time so far:  0:14:18.841343\u001b[0m\n",
      "\u001b[34m[01/19/2020 14:45:42 INFO 140295625463616] Epoch:    1, batches:    600, num_examples:   9600, 9.3 samples/sec, epoch time so far:  0:17:10.293711\u001b[0m\n",
      "\u001b[34m[01/19/2020 14:48:33 INFO 140295625463616] Epoch:    1, batches:    700, num_examples:   11200, 9.3 samples/sec, epoch time so far:  0:20:01.640285\u001b[0m\n",
      "\u001b[34m[01/19/2020 14:51:24 INFO 140295625463616] Epoch:    1, batches:    800, num_examples:   12800, 9.3 samples/sec, epoch time so far:  0:22:52.914351\u001b[0m\n",
      "\u001b[34m[01/19/2020 14:54:16 INFO 140295625463616] Epoch:    1, batches:    900, num_examples:   14400, 9.3 samples/sec, epoch time so far:  0:25:44.508342\u001b[0m\n",
      "\u001b[34m[01/19/2020 14:57:07 INFO 140295625463616] Epoch:    1, batches:    1000, num_examples:   16000, 9.3 samples/sec, epoch time so far:  0:28:35.802531\u001b[0m\n",
      "\u001b[34m[01/19/2020 14:57:57 INFO 140295625463616] #quality_metric: host=algo-1, epoch=1, batch=1029 train cross_entropy <loss>=(1.2781897985635364)\u001b[0m\n",
      "\u001b[34m[01/19/2020 14:57:57 INFO 140295625463616] #quality_metric: host=algo-1, epoch=1, batch=1029 train smooth_l1 <loss>=(0.5135312577894886)\u001b[0m\n",
      "\u001b[34m[01/19/2020 14:57:57 INFO 140295625463616] Round of batches complete\u001b[0m\n",
      "\u001b[34m[01/19/2020 14:57:57 INFO 140295625463616] Updated the metrics\u001b[0m\n",
      "\u001b[34m[01/19/2020 15:00:43 INFO 140295625463616] #quality_metric: host=algo-1, epoch=1, validation mAP <score>=(0.000203912849533432)\u001b[0m\n",
      "\u001b[34m[01/19/2020 15:00:43 INFO 140295625463616] Updating the best model with validation-mAP=0.000203912849533432\u001b[0m\n",
      "\u001b[34m[01/19/2020 15:00:43 INFO 140295625463616] Saved checkpoint to \"/opt/ml/model/model_algo_1-0000.params\"\u001b[0m\n",
      "\u001b[34m[01/19/2020 15:00:43 INFO 140295625463616] #progress_metric: host=algo-1, completed 40 % of epochs\u001b[0m\n",
      "\u001b[34m#metrics {\"Metrics\": {\"Max Batches Seen Between Resets\": {\"count\": 1, \"max\": 0, \"sum\": 0.0, \"min\": 0}, \"Number of Batches Since Last Reset\": {\"count\": 1, \"max\": 0, \"sum\": 0.0, \"min\": 0}, \"Number of Records Since Last Reset\": {\"count\": 1, \"max\": 0, \"sum\": 0.0, \"min\": 0}, \"Total Batches Seen\": {\"count\": 1, \"max\": 0, \"sum\": 0.0, \"min\": 0}, \"Total Records Seen\": {\"count\": 1, \"max\": 0, \"sum\": 0.0, \"min\": 0}, \"Max Records Seen Between Resets\": {\"count\": 1, \"max\": 0, \"sum\": 0.0, \"min\": 0}, \"Reset Count\": {\"count\": 1, \"max\": 2, \"sum\": 2.0, \"min\": 2}}, \"EndTime\": 1579446043.550325, \"Dimensions\": {\"Host\": \"algo-1\", \"Meta\": \"training_data_iter\", \"Operation\": \"training\", \"Algorithm\": \"AWS/Object Detection\", \"epoch\": 1}, \"StartTime\": 1579444111.731683}\n",
      "\u001b[0m\n",
      "\u001b[34m[01/19/2020 15:03:35 INFO 140295625463616] Epoch:    2, batches:    100, num_examples:   1600, 9.3 samples/sec, epoch time so far:  0:02:51.980166\u001b[0m\n",
      "\u001b[34m[01/19/2020 15:06:27 INFO 140295625463616] Epoch:    2, batches:    200, num_examples:   3200, 9.3 samples/sec, epoch time so far:  0:05:43.733481\u001b[0m\n",
      "\u001b[34m[01/19/2020 15:09:20 INFO 140295625463616] Epoch:    2, batches:    300, num_examples:   4800, 9.3 samples/sec, epoch time so far:  0:08:36.588612\u001b[0m\n",
      "\u001b[34m[01/19/2020 15:12:12 INFO 140295625463616] Epoch:    2, batches:    400, num_examples:   6400, 9.3 samples/sec, epoch time so far:  0:11:28.931287\u001b[0m\n",
      "\u001b[34m[01/19/2020 15:15:04 INFO 140295625463616] Epoch:    2, batches:    500, num_examples:   8000, 9.3 samples/sec, epoch time so far:  0:14:20.616664\u001b[0m\n",
      "\u001b[34m[01/19/2020 15:17:55 INFO 140295625463616] Epoch:    2, batches:    600, num_examples:   9600, 9.3 samples/sec, epoch time so far:  0:17:12.378555\u001b[0m\n",
      "\u001b[34m[01/19/2020 15:20:47 INFO 140295625463616] Epoch:    2, batches:    700, num_examples:   11200, 9.3 samples/sec, epoch time so far:  0:20:04.326191\u001b[0m\n",
      "\u001b[34m[01/19/2020 15:23:40 INFO 140295625463616] Epoch:    2, batches:    800, num_examples:   12800, 9.3 samples/sec, epoch time so far:  0:22:57.065163\u001b[0m\n",
      "\u001b[34m[01/19/2020 15:26:32 INFO 140295625463616] Epoch:    2, batches:    900, num_examples:   14400, 9.3 samples/sec, epoch time so far:  0:25:49.349274\u001b[0m\n",
      "\u001b[34m[01/19/2020 15:29:24 INFO 140295625463616] Epoch:    2, batches:    1000, num_examples:   16000, 9.3 samples/sec, epoch time so far:  0:28:40.800071\u001b[0m\n",
      "\u001b[34m[01/19/2020 15:30:13 INFO 140295625463616] #quality_metric: host=algo-1, epoch=2, batch=1029 train cross_entropy <loss>=(1.5324303859512662)\u001b[0m\n",
      "\u001b[34m[01/19/2020 15:30:13 INFO 140295625463616] #quality_metric: host=algo-1, epoch=2, batch=1029 train smooth_l1 <loss>=(0.778371190486958)\u001b[0m\n",
      "\u001b[34m[01/19/2020 15:30:13 INFO 140295625463616] Round of batches complete\u001b[0m\n",
      "\u001b[34m[01/19/2020 15:30:13 INFO 140295625463616] Updated the metrics\u001b[0m\n",
      "\u001b[34m[01/19/2020 15:33:00 INFO 140295625463616] #quality_metric: host=algo-1, epoch=2, validation mAP <score>=(0.00017140587763120758)\u001b[0m\n",
      "\u001b[34m[01/19/2020 15:33:00 INFO 140295625463616] #progress_metric: host=algo-1, completed 60 % of epochs\u001b[0m\n",
      "\u001b[34m#metrics {\"Metrics\": {\"Max Batches Seen Between Resets\": {\"count\": 1, \"max\": 0, \"sum\": 0.0, \"min\": 0}, \"Number of Batches Since Last Reset\": {\"count\": 1, \"max\": 0, \"sum\": 0.0, \"min\": 0}, \"Number of Records Since Last Reset\": {\"count\": 1, \"max\": 0, \"sum\": 0.0, \"min\": 0}, \"Total Batches Seen\": {\"count\": 1, \"max\": 0, \"sum\": 0.0, \"min\": 0}, \"Total Records Seen\": {\"count\": 1, \"max\": 0, \"sum\": 0.0, \"min\": 0}, \"Max Records Seen Between Resets\": {\"count\": 1, \"max\": 0, \"sum\": 0.0, \"min\": 0}, \"Reset Count\": {\"count\": 1, \"max\": 3, \"sum\": 3.0, \"min\": 3}}, \"EndTime\": 1579447980.597803, \"Dimensions\": {\"Host\": \"algo-1\", \"Meta\": \"training_data_iter\", \"Operation\": \"training\", \"Algorithm\": \"AWS/Object Detection\", \"epoch\": 2}, \"StartTime\": 1579446043.55065}\n",
      "\u001b[0m\n",
      "\u001b[34m[01/19/2020 15:35:52 INFO 140295625463616] Epoch:    3, batches:    100, num_examples:   1600, 9.3 samples/sec, epoch time so far:  0:02:52.022145\u001b[0m\n",
      "\u001b[34m[01/19/2020 15:38:43 INFO 140295625463616] Epoch:    3, batches:    200, num_examples:   3200, 9.3 samples/sec, epoch time so far:  0:05:43.273412\u001b[0m\n",
      "\u001b[34m[01/19/2020 15:41:35 INFO 140295625463616] Epoch:    3, batches:    300, num_examples:   4800, 9.3 samples/sec, epoch time so far:  0:08:35.391762\u001b[0m\n",
      "\u001b[34m[01/19/2020 15:44:28 INFO 140295625463616] Epoch:    3, batches:    400, num_examples:   6400, 9.3 samples/sec, epoch time so far:  0:11:27.500999\u001b[0m\n",
      "\u001b[34m[01/19/2020 15:47:19 INFO 140295625463616] Epoch:    3, batches:    500, num_examples:   8000, 9.3 samples/sec, epoch time so far:  0:14:18.996634\u001b[0m\n",
      "\u001b[34m[01/19/2020 15:50:11 INFO 140295625463616] Epoch:    3, batches:    600, num_examples:   9600, 9.3 samples/sec, epoch time so far:  0:17:10.559065\u001b[0m\n",
      "\u001b[34m[01/19/2020 15:53:02 INFO 140295625463616] Epoch:    3, batches:    700, num_examples:   11200, 9.3 samples/sec, epoch time so far:  0:20:02.259916\u001b[0m\n",
      "\u001b[34m[01/19/2020 15:55:54 INFO 140295625463616] Epoch:    3, batches:    800, num_examples:   12800, 9.3 samples/sec, epoch time so far:  0:22:53.769010\u001b[0m\n",
      "\u001b[34m[01/19/2020 15:58:45 INFO 140295625463616] Epoch:    3, batches:    900, num_examples:   14400, 9.3 samples/sec, epoch time so far:  0:25:45.208353\u001b[0m\n",
      "\u001b[34m[01/19/2020 16:01:37 INFO 140295625463616] Epoch:    3, batches:    1000, num_examples:   16000, 9.3 samples/sec, epoch time so far:  0:28:36.475441\u001b[0m\n",
      "\u001b[34m[01/19/2020 16:02:26 INFO 140295625463616] #quality_metric: host=algo-1, epoch=3, batch=1029 train cross_entropy <loss>=(1.8698714720195275)\u001b[0m\n",
      "\u001b[34m[01/19/2020 16:02:26 INFO 140295625463616] #quality_metric: host=algo-1, epoch=3, batch=1029 train smooth_l1 <loss>=(1.4161118097260779)\u001b[0m\n",
      "\u001b[34m[01/19/2020 16:02:26 INFO 140295625463616] Round of batches complete\u001b[0m\n",
      "\u001b[34m[01/19/2020 16:02:26 INFO 140295625463616] Updated the metrics\u001b[0m\n",
      "\u001b[34m[01/19/2020 16:05:23 INFO 140295625463616] #quality_metric: host=algo-1, epoch=3, validation mAP <score>=(9.514470824729676e-05)\u001b[0m\n",
      "\u001b[34m[01/19/2020 16:05:23 INFO 140295625463616] #progress_metric: host=algo-1, completed 80 % of epochs\u001b[0m\n",
      "\u001b[34m#metrics {\"Metrics\": {\"Max Batches Seen Between Resets\": {\"count\": 1, \"max\": 0, \"sum\": 0.0, \"min\": 0}, \"Number of Batches Since Last Reset\": {\"count\": 1, \"max\": 0, \"sum\": 0.0, \"min\": 0}, \"Number of Records Since Last Reset\": {\"count\": 1, \"max\": 0, \"sum\": 0.0, \"min\": 0}, \"Total Batches Seen\": {\"count\": 1, \"max\": 0, \"sum\": 0.0, \"min\": 0}, \"Total Records Seen\": {\"count\": 1, \"max\": 0, \"sum\": 0.0, \"min\": 0}, \"Max Records Seen Between Resets\": {\"count\": 1, \"max\": 0, \"sum\": 0.0, \"min\": 0}, \"Reset Count\": {\"count\": 1, \"max\": 4, \"sum\": 4.0, \"min\": 4}}, \"EndTime\": 1579449923.463402, \"Dimensions\": {\"Host\": \"algo-1\", \"Meta\": \"training_data_iter\", \"Operation\": \"training\", \"Algorithm\": \"AWS/Object Detection\", \"epoch\": 3}, \"StartTime\": 1579447980.598009}\n",
      "\u001b[0m\n",
      "\u001b[34m[01/19/2020 16:08:15 INFO 140295625463616] Epoch:    4, batches:    100, num_examples:   1600, 9.3 samples/sec, epoch time so far:  0:02:52.402701\u001b[0m\n",
      "\u001b[34m[01/19/2020 16:11:07 INFO 140295625463616] Epoch:    4, batches:    200, num_examples:   3200, 9.3 samples/sec, epoch time so far:  0:05:43.929761\u001b[0m\n",
      "\u001b[34m[01/19/2020 16:13:58 INFO 140295625463616] Epoch:    4, batches:    300, num_examples:   4800, 9.3 samples/sec, epoch time so far:  0:08:35.342834\u001b[0m\n",
      "\u001b[34m[01/19/2020 16:16:50 INFO 140295625463616] Epoch:    4, batches:    400, num_examples:   6400, 9.3 samples/sec, epoch time so far:  0:11:26.707716\u001b[0m\n",
      "\u001b[34m[01/19/2020 16:19:41 INFO 140295625463616] Epoch:    4, batches:    500, num_examples:   8000, 9.3 samples/sec, epoch time so far:  0:14:18.165605\u001b[0m\n",
      "\u001b[34m[01/19/2020 16:22:33 INFO 140295625463616] Epoch:    4, batches:    600, num_examples:   9600, 9.3 samples/sec, epoch time so far:  0:17:09.644849\u001b[0m\n",
      "\u001b[34m[01/19/2020 16:25:25 INFO 140295625463616] Epoch:    4, batches:    700, num_examples:   11200, 9.3 samples/sec, epoch time so far:  0:20:02.121832\u001b[0m\n",
      "\u001b[34m[01/19/2020 16:28:17 INFO 140295625463616] Epoch:    4, batches:    800, num_examples:   12800, 9.3 samples/sec, epoch time so far:  0:22:53.987429\u001b[0m\n",
      "\u001b[34m[01/19/2020 16:31:09 INFO 140295625463616] Epoch:    4, batches:    900, num_examples:   14400, 9.3 samples/sec, epoch time so far:  0:25:45.901487\u001b[0m\n",
      "\u001b[34m[01/19/2020 16:34:01 INFO 140295625463616] Epoch:    4, batches:    1000, num_examples:   16000, 9.3 samples/sec, epoch time so far:  0:28:37.596509\u001b[0m\n",
      "\u001b[34m[01/19/2020 16:34:50 INFO 140295625463616] #quality_metric: host=algo-1, epoch=4, batch=1029 train cross_entropy <loss>=(1.841546872930424)\u001b[0m\n",
      "\u001b[34m[01/19/2020 16:34:50 INFO 140295625463616] #quality_metric: host=algo-1, epoch=4, batch=1029 train smooth_l1 <loss>=(1.3758963694037694)\u001b[0m\n",
      "\u001b[34m[01/19/2020 16:34:50 INFO 140295625463616] Round of batches complete\u001b[0m\n",
      "\u001b[34m[01/19/2020 16:34:50 INFO 140295625463616] Updated the metrics\u001b[0m\n",
      "\n",
      "2020-01-19 16:38:12 Uploading - Uploading generated training model\u001b[34m[01/19/2020 16:38:06 INFO 140295625463616] #quality_metric: host=algo-1, epoch=4, validation mAP <score>=(0.0001633430893043902)\u001b[0m\n",
      "\u001b[34m[01/19/2020 16:38:06 INFO 140295625463616] #progress_metric: host=algo-1, completed 100 % of epochs\u001b[0m\n",
      "\u001b[34m#metrics {\"Metrics\": {\"Max Batches Seen Between Resets\": {\"count\": 1, \"max\": 0, \"sum\": 0.0, \"min\": 0}, \"Number of Batches Since Last Reset\": {\"count\": 1, \"max\": 0, \"sum\": 0.0, \"min\": 0}, \"Number of Records Since Last Reset\": {\"count\": 1, \"max\": 0, \"sum\": 0.0, \"min\": 0}, \"Total Batches Seen\": {\"count\": 1, \"max\": 0, \"sum\": 0.0, \"min\": 0}, \"Total Records Seen\": {\"count\": 1, \"max\": 0, \"sum\": 0.0, \"min\": 0}, \"Max Records Seen Between Resets\": {\"count\": 1, \"max\": 0, \"sum\": 0.0, \"min\": 0}, \"Reset Count\": {\"count\": 1, \"max\": 5, \"sum\": 5.0, \"min\": 5}}, \"EndTime\": 1579451886.221871, \"Dimensions\": {\"Host\": \"algo-1\", \"Meta\": \"training_data_iter\", \"Operation\": \"training\", \"Algorithm\": \"AWS/Object Detection\", \"epoch\": 4}, \"StartTime\": 1579449923.463587}\n",
      "\u001b[0m\n",
      "\u001b[34m[01/19/2020 16:38:06 WARNING 140295625463616] wait_for_all_workers will not sync workers since the kv store is not running distributed\u001b[0m\n",
      "\u001b[34m[01/19/2020 16:38:06 INFO 140295625463616] Saved checkpoint to \"/opt/ml/model/model_algo_1-0000.params\"\u001b[0m\n",
      "\u001b[34m[01/19/2020 16:38:06 INFO 140295625463616] Test data is not provided.\u001b[0m\n",
      "\u001b[34m#metrics {\"Metrics\": {\"epochs\": {\"count\": 1, \"max\": 5, \"sum\": 5.0, \"min\": 5}, \"totaltime\": {\"count\": 1, \"max\": 9825264.404058456, \"sum\": 9825264.404058456, \"min\": 9825264.404058456}, \"setuptime\": {\"count\": 1, \"max\": 13.437032699584961, \"sum\": 13.437032699584961, \"min\": 13.437032699584961}}, \"EndTime\": 1579451888.285786, \"Dimensions\": {\"Host\": \"algo-1\", \"Operation\": \"training\", \"Algorithm\": \"AWS/Object Detection\"}, \"StartTime\": 1579442063.114546}\n",
      "\u001b[0m\n",
      "\n",
      "2020-01-19 16:38:39 Completed - Training job completed\n",
      "Training seconds: 10166\n",
      "Billable seconds: 10166\n"
     ]
    }
   ],
   "source": [
    "dog_detector_model.fit(inputs=data_channels, logs=True)"
   ]
  },
  {
   "cell_type": "code",
   "execution_count": 50,
   "metadata": {},
   "outputs": [
    {
     "name": "stdout",
     "output_type": "stream",
     "text": [
      "--------------------------------------------------------------------------!"
     ]
    }
   ],
   "source": [
    "dog_detector = dog_detector_model.deploy(initial_instance_count = 1,\n",
    "                                 instance_type = 'ml.m4.xlarge')"
   ]
  },
  {
   "cell_type": "code",
   "execution_count": 87,
   "metadata": {},
   "outputs": [
    {
     "name": "stdout",
     "output_type": "stream",
     "text": [
      "--2020-01-19 17:14:29--  https://upload.wikimedia.org/wikipedia/commons/2/25/Affenpinscher_dog.jpg\n",
      "Resolving upload.wikimedia.org (upload.wikimedia.org)... 208.80.154.240, 2620:0:861:ed1a::2:b\n",
      "Connecting to upload.wikimedia.org (upload.wikimedia.org)|208.80.154.240|:443... connected.\n",
      "HTTP request sent, awaiting response... 200 OK\n",
      "Length: 19258 (19K) [image/jpeg]\n",
      "Saving to: ‘test.jpg’\n",
      "\n",
      "test.jpg            100%[===================>]  18.81K  --.-KB/s    in 0.01s   \n",
      "\n",
      "2020-01-19 17:14:29 (1.68 MB/s) - ‘test.jpg’ saved [19258/19258]\n",
      "\n"
     ]
    }
   ],
   "source": [
    "!wget -O test.jpg https://upload.wikimedia.org/wikipedia/commons/2/25/Affenpinscher_dog.jpg\n",
    "file_name = './dogs_data/Images/n02085620_10074.jpg'\n",
    "\n",
    "with open(file_name, 'rb') as image:\n",
    "    f = image.read()\n",
    "    b = bytearray(f)\n",
    "    ne = open('n.txt','wb')\n",
    "    ne.write(b)"
   ]
  },
  {
   "cell_type": "code",
   "execution_count": 88,
   "metadata": {},
   "outputs": [
    {
     "name": "stdout",
     "output_type": "stream",
     "text": [
      "{'prediction': [[3.0, 0.050276704132556915, 0.006265908479690552, 0.4896217882633209, 0.44029900431632996, 0.88245689868927], [79.0, 0.04290726035833359, 0.18787270784378052, 0.040871113538742065, 0.9291569590568542, 0.8474386930465698], [79.0, 0.03504161909222603, 0.0, 0.2599553167819977, 0.7897615432739258, 1.0], [3.0, 0.03261958062648773, 0.0, 0.3433404564857483, 0.3230893313884735, 0.7726879715919495], [66.0, 0.031247606500983238, 0.0, 0.0866105854511261, 0.5463544726371765, 0.7627708911895752], [79.0, 0.030184758827090263, 0.20384296774864197, 0.5249731540679932, 0.9582822322845459, 1.0], [32.0, 0.02967916429042816, 0.0, 0.475845068693161, 0.631992757320404, 0.808265209197998], [36.0, 0.029265832155942917, 0.23665452003479004, 0.3747622072696686, 0.9276546239852905, 0.9134557247161865], [66.0, 0.028746629133820534, 0.019808828830718994, 0.5312087535858154, 0.7663524746894836, 1.0], [28.0, 0.028626687824726105, 0.0, 0.3000210225582123, 0.5555422306060791, 0.9684088230133057], [32.0, 0.02626902423799038, 0.0, 0.7182703614234924, 0.547234058380127, 1.0], [70.0, 0.025590525940060616, 0.0, 0.6179656982421875, 0.7533501386642456, 1.0], [56.0, 0.025220289826393127, 0.0, 0.0, 0.7613980770111084, 0.4074384868144989], [47.0, 0.02455456368625164, 0.0, 0.565259575843811, 0.5175690054893494, 1.0], [6.0, 0.023955391719937325, 0.03137668967247009, 0.0, 0.7407636642456055, 0.5748915672302246], [78.0, 0.023693950846791267, 0.20685738325119019, 0.4814908802509308, 0.5518091917037964, 1.0], [72.0, 0.02342996373772621, 0.0, 0.0, 0.5122679471969604, 0.5122159123420715], [12.0, 0.02340923249721527, 0.47370752692222595, 0.5621055364608765, 1.0, 1.0], [29.0, 0.023159828037023544, 0.4560377597808838, 0.47258850932121277, 0.7933741807937622, 1.0], [32.0, 0.022921456024050713, 0.0, 0.2304622381925583, 0.6445569396018982, 0.5547654032707214], [78.0, 0.02273918315768242, 0.0, 0.6175172328948975, 0.46313995122909546, 1.0], [36.0, 0.022139037027955055, 0.039786189794540405, 0.6147944927215576, 0.7095702886581421, 1.0], [21.0, 0.021813634783029556, 0.0, 0.0, 0.6471896767616272, 0.29354238510131836], [36.0, 0.021167313680052757, 0.0, 0.38756147027015686, 0.5079192519187927, 0.856545090675354], [34.0, 0.021153675392270088, 0.0, 0.3597416281700134, 0.4977450966835022, 0.9261065125465393], [34.0, 0.02085159346461296, 0.0, 0.12560859322547913, 0.47033363580703735, 0.7000079154968262], [76.0, 0.0206151083111763, 0.018757522106170654, 0.11981523036956787, 1.0, 0.9340773820877075], [36.0, 0.0206108670681715, 0.2469404935836792, 0.12415602803230286, 0.9338127374649048, 0.7018617391586304], [56.0, 0.020205872133374214, 0.0, 0.1313798427581787, 0.7511985301971436, 0.6905677318572998], [1.0, 0.01994967646896839, 0.0, 0.19660460948944092, 0.3149961233139038, 0.6646000742912292], [13.0, 0.019227387383580208, 0.4119091331958771, 0.392695814371109, 1.0, 0.8790318965911865], [56.0, 0.01921548694372177, 0.0, 0.3532189130783081, 0.7558023929595947, 0.9515366554260254], [23.0, 0.019145581871271133, 0.0, 0.0, 0.2852529287338257, 0.5773822069168091], [35.0, 0.018847953528165817, 0.47250568866729736, 0.6658036708831787, 1.0, 1.0], [24.0, 0.018781792372465134, 0.0, 0.6485064625740051, 0.5431275367736816, 1.0], [78.0, 0.01868237368762493, 0.0, 0.0, 0.29448598623275757, 0.836443305015564], [58.0, 0.018666015937924385, 0.04337325692176819, 0.06953644752502441, 0.9359257221221924, 0.9931243658065796], [78.0, 0.018609413877129555, 0.030127257108688354, 0.13281363248825073, 0.7188986539840698, 0.6906550526618958], [3.0, 0.018598226830363274, 0.026505962014198303, 0.0, 0.43778032064437866, 0.4451712369918823], [12.0, 0.01859736442565918, 0.46175694465637207, 0.0, 1.0, 0.35292118787765503], [56.0, 0.018139341846108437, 0.0, 0.05779281258583069, 0.30767446756362915, 0.5383743047714233], [54.0, 0.018014781177043915, 0.01747673749923706, 0.7147884368896484, 1.0, 1.0], [78.0, 0.017918702214956284, 0.1361081898212433, 0.37774044275283813, 0.9553405046463013, 0.9222522377967834], [33.0, 0.017871703952550888, 0.6125173568725586, 0.840631365776062, 1.0, 1.0], [63.0, 0.017453167587518692, 0.0, 0.16696292161941528, 0.49671560525894165, 0.632020890712738], [48.0, 0.01725483313202858, 0.0, 0.1996069699525833, 0.9182512760162354, 0.5621302127838135], [1.0, 0.016895504668354988, 0.4792020916938782, 0.0, 1.0, 0.5214821100234985], [49.0, 0.016857001930475235, 0.8328704237937927, 0.6320286989212036, 1.0, 1.0], [50.0, 0.016852205619215965, 0.02552783489227295, 0.0, 1.0, 0.2976270318031311], [1.0, 0.016645759344100952, 0.0, 0.0, 0.29299747943878174, 0.4170565605163574], [34.0, 0.016496403142809868, 0.0, 0.0, 0.4433748126029968, 0.43460777401924133], [60.0, 0.01623005047440529, 0.35961413383483887, 0.0, 1.0, 0.28529489040374756], [7.0, 0.0160676296800375, 0.07242794334888458, 0.6612240672111511, 0.30435478687286377, 1.0], [41.0, 0.015669098123908043, 0.6942147016525269, 0.6686444878578186, 0.9292969703674316, 1.0], [29.0, 0.015582315623760223, 0.7305132150650024, 0.4086689352989197, 1.0, 1.0], [57.0, 0.015238430351018906, 0.5421620607376099, 0.6191677451133728, 1.0, 1.0], [32.0, 0.015122205018997192, 0.18341808021068573, 0.0, 0.5467016100883484, 0.8700828552246094], [1.0, 0.015055307187139988, 0.0, 0.0, 0.3625647723674774, 0.18000909686088562], [2.0, 0.01497276034206152, 0.0, 0.0, 0.30703428387641907, 0.19973742961883545], [52.0, 0.014937709085643291, 0.0, 0.2188643515110016, 1.0, 0.5722460746765137], [74.0, 0.01489171665161848, 0.0, 0.0, 0.286292165517807, 0.2888075113296509], [51.0, 0.014805360697209835, 0.7170970439910889, 0.0, 1.0, 0.6118765473365784], [25.0, 0.014776702970266342, 0.0, 0.06662692129611969, 0.3575385808944702, 0.3127777576446533], [43.0, 0.014711972326040268, 0.20233207941055298, 0.0, 0.5290499925613403, 0.6070614457130432], [24.0, 0.014562279917299747, 0.08267474174499512, 0.0, 0.6706317067146301, 0.4336271584033966], [53.0, 0.014555420726537704, 0.05989225208759308, 0.5372442007064819, 0.32035118341445923, 1.0], [36.0, 0.014285455457866192, 0.6957812905311584, 0.8066107034683228, 1.0, 1.0], [16.0, 0.014134621247649193, 0.0, 0.0, 0.17960238456726074, 0.39707082509994507], [13.0, 0.014075590297579765, 0.4369574785232544, 0.14613944292068481, 1.0, 0.6320833563804626], [1.0, 0.014074145816266537, 0.49126559495925903, 0.25210434198379517, 0.9976347088813782, 1.0], [43.0, 0.014050380326807499, 0.4399486482143402, 0.0, 0.77972412109375, 0.6421144008636475], [62.0, 0.013988365419209003, 0.0, 0.4539516866207123, 0.8873252868652344, 0.8185766935348511], [13.0, 0.01391687337309122, 0.0, 0.41165170073509216, 0.6086207628250122, 1.0], [5.0, 0.013870631344616413, 0.2506861090660095, 0.0, 1.0, 0.5124564170837402], [53.0, 0.013825567439198494, 0.05942322313785553, 0.0, 0.31924861669540405, 0.4926857650279999], [12.0, 0.01380979735404253, 0.0, 0.0, 0.6154859662055969, 0.6087344884872437], [19.0, 0.013771229423582554, 0.0, 0.6279072761535645, 0.18080949783325195, 1.0], [62.0, 0.013670960441231728, 0.48005667328834534, 0.826827347278595, 1.0, 1.0], [30.0, 0.013645975850522518, 0.3621197044849396, 0.0, 1.0, 0.643307626247406], [27.0, 0.013643315061926842, 0.0, 0.4934247136116028, 0.7862433195114136, 1.0], [24.0, 0.013641346246004105, 0.39894333481788635, 0.0, 1.0, 0.6219515800476074], [35.0, 0.013620850630104542, 0.0, 0.0, 0.4969233274459839, 0.17913949489593506], [3.0, 0.013615855015814304, 0.22081874310970306, 0.0, 0.6992542147636414, 0.3426557183265686], [11.0, 0.013612642884254456, 0.8220891952514648, 0.0, 1.0, 0.3790414035320282], [12.0, 0.01354918908327818, 0.0, 0.34840524196624756, 0.6422097682952881, 1.0], [22.0, 0.013495835475623608, 0.2540220022201538, 0.4906894564628601, 1.0, 1.0], [64.0, 0.013443518429994583, 0.0, 0.0, 0.6513679623603821, 0.640548586845398], [7.0, 0.013420704752206802, 0.19633017480373383, 0.6507821083068848, 0.4336940050125122, 1.0], [59.0, 0.01330039743334055, 0.0, 0.0, 0.5055645704269409, 0.7635080814361572], [4.0, 0.013274319469928741, 0.0051555335521698, 0.24657675623893738, 0.5090670585632324, 1.0], [36.0, 0.013273545540869236, 0.33350899815559387, 0.0, 0.896528959274292, 0.42859742045402527], [60.0, 0.012937729246914387, 0.29406821727752686, 0.24316668510437012, 1.0, 0.5753924250602722], [7.0, 0.012917299754917622, 0.06629930436611176, 0.0, 0.31946277618408203, 0.3711917996406555], [61.0, 0.012786350212991238, 0.6427994966506958, 0.6968095302581787, 1.0, 0.9318383932113647], [32.0, 0.01266564428806305, 0.7067240476608276, 0.0, 1.0, 0.8694517612457275], [54.0, 0.012224292382597923, 0.357330322265625, 0.8205450773239136, 1.0, 1.0], [54.0, 0.012194642797112465, 0.5752021074295044, 0.6612699627876282, 0.8071367740631104, 1.0], [33.0, 0.01218494214117527, 0.0, 0.8331859111785889, 0.5069109797477722, 1.0], [66.0, 0.012058092281222343, 0.4125751852989197, 0.0, 0.7898333668708801, 0.9273526668548584], [59.0, 0.011986450292170048, 0.6250335574150085, 0.07213559001684189, 1.0, 0.3028537333011627], [36.0, 0.011947736144065857, 0.037437066435813904, 0.5658841133117676, 0.3174048066139221, 1.0], [25.0, 0.011844459921121597, 0.0, 0.18044285476207733, 0.3585684895515442, 0.4413408041000366], [42.0, 0.011812672019004822, 0.605824887752533, 0.0, 1.0, 0.17011211812496185], [3.0, 0.011759569868445396, 0.07348233461380005, 0.6072772145271301, 0.5573045015335083, 0.9949859976768494], [7.0, 0.011726964265108109, 0.8288357257843018, 0.5033640265464783, 1.0, 1.0], [36.0, 0.011722025461494923, 0.0, 0.0, 0.1937452256679535, 0.3260641098022461], [15.0, 0.011585276573896408, 0.0, 0.8316178321838379, 0.38525381684303284, 1.0], [19.0, 0.011508968658745289, 0.5316333174705505, 0.12422788143157959, 1.0, 0.6713024377822876], [2.0, 0.011481639929115772, 0.559309720993042, 0.8063998222351074, 1.0, 1.0], [2.0, 0.01145204622298479, 0.7076542377471924, 0.0, 1.0, 0.2057604193687439], [37.0, 0.011316425167024136, 0.6783667802810669, 0.7011328935623169, 0.9385855197906494, 1.0], [38.0, 0.011290227063000202, 0.6794489026069641, 0.5376957058906555, 0.943001925945282, 1.0], [53.0, 0.011270868591964245, 0.32539671659469604, 0.6600499153137207, 0.558929979801178, 1.0], [52.0, 0.011185492388904095, 0.0, 0.050416022539138794, 0.3048267066478729, 0.33022579550743103], [60.0, 0.01116354949772358, 0.3001815676689148, 0.48872941732406616, 1.0, 0.8294437527656555], [49.0, 0.011120526120066643, 0.8201726675033569, 0.0, 1.0, 0.49583345651626587], [53.0, 0.011104327626526356, 0.4489097595214844, 0.6615526676177979, 0.6814779043197632, 1.0], [42.0, 0.011002151295542717, 0.0, 0.0, 0.6144304871559143, 0.18077880144119263], [25.0, 0.010987277142703533, 0.0, 0.7050734162330627, 0.34984439611434937, 0.9339346289634705], [52.0, 0.010947123169898987, 0.7098629474639893, 0.04570139944553375, 1.0, 0.33054178953170776], [1.0, 0.010871050879359245, 0.0, 0.5788353681564331, 0.29877808690071106, 1.0], [48.0, 0.010693792253732681, 0.7258583307266235, 0.1278560757637024, 1.0, 1.0], [50.0, 0.010681482031941414, 0.6813173890113831, 0.0, 0.9352055191993713, 0.3318723440170288], [3.0, 0.010530381463468075, 0.5936532616615295, 0.7302870750427246, 0.9905516505241394, 1.0], [52.0, 0.010525858961045742, 0.7171890139579773, 0.6692218780517578, 1.0, 0.9451353549957275], [42.0, 0.010514110326766968, 0.0009345114231109619, 0.7176629900932312, 0.40491557121276855, 1.0], [44.0, 0.010228896513581276, 0.08931265771389008, 0.0, 0.526498556137085, 0.22842258214950562], [33.0, 0.010132327675819397, 0.2239287793636322, 0.8194520473480225, 0.8818366527557373, 1.0], [33.0, 0.010017692111432552, 0.6309243440628052, 0.19077655673027039, 1.0, 0.4341275990009308]]}\n"
     ]
    }
   ],
   "source": [
    "dog_detector.content_type = 'image/jpeg'\n",
    "results = dog_detector.predict(b)\n",
    "detections = json.loads(results)\n",
    "print (detections)"
   ]
  },
  {
   "cell_type": "code",
   "execution_count": 102,
   "metadata": {},
   "outputs": [],
   "source": [
    "def visualize_detection(img_file, dets, classes=[], thresh=0.6):\n",
    "        \"\"\"\n",
    "        visualize detections in one image\n",
    "        Parameters:\n",
    "        ----------\n",
    "        img : numpy.array\n",
    "            image, in bgr format\n",
    "        dets : numpy.array\n",
    "            ssd detections, numpy.array([[id, score, x1, y1, x2, y2]...])\n",
    "            each row is one object\n",
    "        classes : dict\n",
    "            class names\n",
    "        thresh : float\n",
    "            score threshold\n",
    "        \"\"\"\n",
    "        import random\n",
    "        import matplotlib.pyplot as plt\n",
    "        import matplotlib.image as mpimg\n",
    "\n",
    "        img=mpimg.imread(img_file)\n",
    "        plt.imshow(img)\n",
    "        height = img.shape[0]\n",
    "        width = img.shape[1]\n",
    "        colors = dict()\n",
    "        for det in dets:            \n",
    "            (klass, score, x0, y0, x1, y1) = det\n",
    "            if score < thresh:\n",
    "                continue\n",
    "            cls_id = int(klass)\n",
    "            if cls_id not in colors:\n",
    "                colors[cls_id] = (random.random(), random.random(), random.random())\n",
    "            xmin = int(x0 * width)\n",
    "            ymin = int(y0 * height)\n",
    "            xmax = int(x1 * width)\n",
    "            ymax = int(y1 * height)\n",
    "            rect = plt.Rectangle((xmin, ymin), xmax - xmin,\n",
    "                                 ymax - ymin, fill=False,\n",
    "                                 edgecolor=colors[cls_id],\n",
    "                                 linewidth=3.5)\n",
    "            plt.gca().add_patch(rect)\n",
    "            class_name = str(cls_id)\n",
    "            key_list = list(classes.keys()) \n",
    "            val_list = list(classes.values()) \n",
    "\n",
    "            if classes and len(classes) > cls_id:\n",
    "                class_name = key_list[val_list.index(112)]\n",
    "            print(class_name)\n",
    "            plt.gca().text(xmin, ymin - 2,\n",
    "                            '{:s} {:.3f}'.format(class_name, score),\n",
    "                            bbox=dict(facecolor=colors[cls_id], alpha=0.5),\n",
    "                                    fontsize=12, color='white')\n",
    "        plt.show()"
   ]
  },
  {
   "cell_type": "code",
   "execution_count": 103,
   "metadata": {},
   "outputs": [
    {
     "name": "stdout",
     "output_type": "stream",
     "text": [
      "bloodhound\n",
      "bloodhound\n",
      "bloodhound\n",
      "bloodhound\n",
      "bloodhound\n",
      "bloodhound\n",
      "bloodhound\n",
      "bloodhound\n",
      "bloodhound\n",
      "bloodhound\n",
      "bloodhound\n",
      "bloodhound\n",
      "bloodhound\n",
      "bloodhound\n",
      "bloodhound\n",
      "bloodhound\n",
      "bloodhound\n",
      "bloodhound\n",
      "bloodhound\n",
      "bloodhound\n",
      "bloodhound\n",
      "bloodhound\n",
      "bloodhound\n",
      "bloodhound\n",
      "bloodhound\n",
      "bloodhound\n",
      "bloodhound\n",
      "bloodhound\n",
      "bloodhound\n"
     ]
    },
    {
     "data": {
      "image/png": "[encoded data removed]",
      "text/plain": [
       "<Figure size 432x288 with 1 Axes>"
      ]
     },
     "metadata": {},
     "output_type": "display_data"
    }
   ],
   "source": [
    "threshold = 0.02\n",
    "  \n",
    "# Visualize the detections.\n",
    "visualize_detection(file_name, detections['prediction'], dogs_categories, threshold)"
   ]
  },
  {
   "cell_type": "code",
   "execution_count": 56,
   "metadata": {},
   "outputs": [
    {
     "ename": "NameError",
     "evalue": "name 'object_detector' is not defined",
     "output_type": "error",
     "traceback": [
      "\u001b[0;31m---------------------------------------------------------------------------\u001b[0m",
      "\u001b[0;31mNameError\u001b[0m                                 Traceback (most recent call last)",
      "\u001b[0;32m<ipython-input-56-3e6a6a2adcb0>\u001b[0m in \u001b[0;36m<module>\u001b[0;34m()\u001b[0m\n\u001b[0;32m----> 1\u001b[0;31m \u001b[0msagemaker\u001b[0m\u001b[0;34m.\u001b[0m\u001b[0mSession\u001b[0m\u001b[0;34m(\u001b[0m\u001b[0;34m)\u001b[0m\u001b[0;34m.\u001b[0m\u001b[0mdelete_endpoint\u001b[0m\u001b[0;34m(\u001b[0m\u001b[0mobject_detector\u001b[0m\u001b[0;34m.\u001b[0m\u001b[0mendpoint\u001b[0m\u001b[0;34m)\u001b[0m\u001b[0;34m\u001b[0m\u001b[0m\n\u001b[0m",
      "\u001b[0;31mNameError\u001b[0m: name 'object_detector' is not defined"
     ]
    }
   ],
   "source": [
    "sagemaker.Session().delete_endpoint(dog_detector.endpoint)"
   ]
  },
  {
   "cell_type": "code",
   "execution_count": null,
   "metadata": {},
   "outputs": [],
   "source": []
  },
  {
   "cell_type": "markdown",
   "metadata": {},
   "source": [
    "## 3<sup>rd</sup>: Implement Dog Detector\n",
    "\n",
    "For dog detector I will use an Sagemaker [image detector algorithm](https://docs.aws.amazon.com/sagemaker/latest/dg/object-detection.html)."
   ]
  },
  {
   "cell_type": "code",
   "execution_count": null,
   "metadata": {},
   "outputs": [],
   "source": []
  }
 ],
 "metadata": {
  "kernelspec": {
   "display_name": "conda_pytorch_p36",
   "language": "python",
   "name": "conda_pytorch_p36"
  },
  "language_info": {
   "codemirror_mode": {
    "name": "ipython",
    "version": 3
   },
   "file_extension": ".py",
   "mimetype": "text/x-python",
   "name": "python",
   "nbconvert_exporter": "python",
   "pygments_lexer": "ipython3",
   "version": "3.6.5"
  }
 },
 "nbformat": 4,
 "nbformat_minor": 4
}
